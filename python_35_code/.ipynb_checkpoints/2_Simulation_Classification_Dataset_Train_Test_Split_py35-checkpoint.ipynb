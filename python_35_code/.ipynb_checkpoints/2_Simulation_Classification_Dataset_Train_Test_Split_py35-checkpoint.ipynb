{
 "cells": [
  {
   "cell_type": "markdown",
   "metadata": {},
   "source": [
    "# Description"
   ]
  },
  {
   "cell_type": "markdown",
   "metadata": {},
   "source": [
    "The simulated raw data generated will be split into two datasets: train and test. Students will be provided the training set while the test set will be withheld to test their models on."
   ]
  },
  {
   "cell_type": "markdown",
   "metadata": {},
   "source": [
    "# Libraries"
   ]
  },
  {
   "cell_type": "code",
   "execution_count": 1,
   "metadata": {
    "collapsed": true
   },
   "outputs": [],
   "source": [
    "import pandas as pd\n",
    "import sklearn\n",
    "from sklearn.model_selection import train_test_split\n",
    "from __future__ import print_function"
   ]
  },
  {
   "cell_type": "markdown",
   "metadata": {},
   "source": [
    "# Versions"
   ]
  },
  {
   "cell_type": "markdown",
   "metadata": {},
   "source": [
    "**Disclaimer: This notebook uses Python 3.5. Sections may not work if you try this with Python 2.X.**"
   ]
  },
  {
   "cell_type": "code",
   "execution_count": 2,
   "metadata": {},
   "outputs": [
    {
     "name": "stdout",
     "output_type": "stream",
     "text": [
      "Sklearn version: 0.18.1\n",
      "Pandas version: 0.20.1\n"
     ]
    }
   ],
   "source": [
    "items = [(\"Sklearn\", sklearn), (\"Pandas\", pd)]\n",
    "for item in items:\n",
    "    print(item[0] + \" version: \" + str(item[1].__version__))"
   ]
  },
  {
   "cell_type": "markdown",
   "metadata": {},
   "source": [
    "# Get Data"
   ]
  },
  {
   "cell_type": "code",
   "execution_count": 3,
   "metadata": {
    "collapsed": true
   },
   "outputs": [],
   "source": [
    "X = pd.read_hdf('/Users/davidziganto/Repositories/Synthetic_Dataset_Generation/data/py35/simulated_raw_data_py35.h5', 'table')"
   ]
  },
  {
   "cell_type": "markdown",
   "metadata": {},
   "source": [
    "# Preprocess Data"
   ]
  },
  {
   "cell_type": "code",
   "execution_count": 4,
   "metadata": {
    "collapsed": true
   },
   "outputs": [],
   "source": [
    "y = X.pop('hired')"
   ]
  },
  {
   "cell_type": "markdown",
   "metadata": {},
   "source": [
    "# Split Data"
   ]
  },
  {
   "cell_type": "code",
   "execution_count": 5,
   "metadata": {
    "collapsed": true
   },
   "outputs": [],
   "source": [
    "X_train, X_test, y_train, y_test = train_test_split(X, y, test_size=0.2, random_state=42)\n",
    "training = pd.concat([X_train, y_train], axis=1)\n",
    "training.reset_index(drop=True, inplace=True)"
   ]
  },
  {
   "cell_type": "markdown",
   "metadata": {},
   "source": [
    "# Pickle X_test & y_test"
   ]
  },
  {
   "cell_type": "code",
   "execution_count": 6,
   "metadata": {
    "collapsed": true
   },
   "outputs": [],
   "source": [
    "import pickle\n",
    "\n",
    "path = '/Users/davidziganto/Repositories/Synthetic_Dataset_Generation/pickle_files/py35/'\n",
    "\n",
    "# Save X_test\n",
    "with open(path + 'X_test_py35.pkl', 'wb') as picklefile:\n",
    "    pickle.dump(X_test, picklefile)\n",
    "    \n",
    "# Save y_test\n",
    "with open(path + 'y_test_py35.pkl', 'wb') as picklefile:\n",
    "    pickle.dump(y_test, picklefile)"
   ]
  },
  {
   "cell_type": "markdown",
   "metadata": {},
   "source": [
    "# Write Training Data To Disk"
   ]
  },
  {
   "cell_type": "code",
   "execution_count": 7,
   "metadata": {
    "collapsed": true
   },
   "outputs": [],
   "source": [
    "training.to_hdf('/Users/davidziganto/Repositories/Synthetic_Dataset_Generation/data/py35/simulated_raw_training_data_py35.h5',\n",
    "                 'table',\n",
    "                 mode='w',\n",
    "                 append=True, \n",
    "                 complevel=9, \n",
    "                 complib='blosc',\n",
    "                 fletcher32=True)"
   ]
  }
 ],
 "metadata": {
  "kernelspec": {
   "display_name": "py35",
   "language": "python",
   "name": "py35"
  },
  "language_info": {
   "codemirror_mode": {
    "name": "ipython",
    "version": 3
   },
   "file_extension": ".py",
   "mimetype": "text/x-python",
   "name": "python",
   "nbconvert_exporter": "python",
   "pygments_lexer": "ipython3",
   "version": "3.5.3"
  }
 },
 "nbformat": 4,
 "nbformat_minor": 2
}
